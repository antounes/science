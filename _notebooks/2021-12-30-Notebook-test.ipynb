{
  "nbformat": 4,
  "nbformat_minor": 0,
  "metadata": {
    "colab": {
      "name": "02_from_model_to_production.ipynb",
      "provenance": []
    },
    "kernelspec": {
      "name": "python3",
      "display_name": "Python 3"
    },
    "language_info": {
      "name": "python"
    },
    "accelerator": "GPU"
  },
  "cells": [
    {
      "cell_type": "markdown",
      "source": [
        "Let's try to build a model that recognises country flags."
      ],
      "metadata": {
        "id": "UrKvafX95j0u"
      }
    },
    {
      "cell_type": "markdown",
      "source": [
        "## Gathering Data"
      ],
      "metadata": {
        "id": "G7xGAvLFMNSo"
      }
    },
    {
      "cell_type": "code",
      "execution_count": null,
      "metadata": {
        "id": "XF6LmIp3zaNZ"
      },
      "outputs": [],
      "source": [
        "!pip install -Uqq fastbook\n",
        "import fastbook\n",
        "fastbook.setup_book()\n",
        "\n",
        "from fastbook import *"
      ]
    },
    {
      "cell_type": "code",
      "source": [
        "# Download URLs for all of our search terms\n",
        "\n",
        "flags = ('Russia', 'Ukraine', 'France', 'Spain', 'Sweden', \n",
        "'Norway', 'Germany', 'Finland', 'Poland', 'Italy', \n",
        "'United Kingdom', 'Romania' , 'Belarus', 'Kazakhstan', \n",
        "'Greece', 'Bulgaria', 'Iceland', 'Hungary', 'Portugal', \n",
        "'Serbia', 'Austria', 'Czech Republic' , 'Ireland', 'Lithuania', \n",
        "'Latvia', 'Croatia', 'Bosnia and Herzegovina', 'Slovakia', \n",
        "'Estonia', 'Denmark', 'Switzerland', 'Netherlands', 'Moldova', \n",
        "'Belgium', 'Albania', 'North Macedonia', 'Turkey', 'Slovenia', \n",
        "'Montenegro', 'Kosovo', 'Azaerbaijan', 'Luxembourg', 'Georgia', 'Andorra', \n",
        "'Malta', 'Liechtenstein', 'San Marino', 'Monaco', 'Vatican City', 'Cyprus', 'Armenia')\n",
        "path = Path('flags')\n",
        "\n",
        "if not path.exists():\n",
        "  path.mkdir()\n",
        "for f in flags:\n",
        "  dest = (path/f)\n",
        "  dest.mkdir(exist_ok=True)\n",
        "  results = search_images_ddg('{} flag'.format(f), max_images=100)\n",
        "  download_images(urls=results, dest=dest)"
      ],
      "metadata": {
        "id": "F2_kCZT30ORH"
      },
      "execution_count": null,
      "outputs": []
    },
    {
      "cell_type": "code",
      "source": [
        "# Check images are located in the destination folder\n",
        "\n",
        "fns = get_image_files(path)\n",
        "fns"
      ],
      "metadata": {
        "colab": {
          "base_uri": "https://localhost:8080/"
        },
        "id": "ufhb_yDm5QCl",
        "outputId": "0e05991c-85a9-498a-f222-28c23c2c5688"
      },
      "execution_count": null,
      "outputs": [
        {
          "output_type": "execute_result",
          "data": {
            "text/plain": [
              "(#5372) [Path('flags/Albania/00000035.jpg'),Path('flags/Albania/00000030.jpg'),Path('flags/Albania/00000071.jpg'),Path('flags/Albania/00000008.jpg'),Path('flags/Albania/00000025.jpg'),Path('flags/Albania/00000077.jpeg'),Path('flags/Albania/00000050.png'),Path('flags/Albania/00000018.jpg'),Path('flags/Albania/00000006.jpg'),Path('flags/Albania/00000057.jpg')...]"
            ]
          },
          "metadata": {},
          "execution_count": 20
        }
      ]
    },
    {
      "cell_type": "code",
      "source": [
        "# Check if some files are corrupt\n",
        "\n",
        "failed = verify_images(fns)\n",
        "failed"
      ],
      "metadata": {
        "colab": {
          "base_uri": "https://localhost:8080/"
        },
        "id": "Spz1VYy85zjS",
        "outputId": "89a955ce-d769-4967-fbb8-df1f2918a27a"
      },
      "execution_count": null,
      "outputs": [
        {
          "output_type": "execute_result",
          "data": {
            "text/plain": [
              "(#82) [Path('flags/Greece/00000006.jpg'),Path('flags/Moldova/00000002.jpg'),Path('flags/Romania/00000040.jpg'),Path('flags/Liechtenstein/00000012.svg'),Path('flags/Liechtenstein/00000069.svg'),Path('flags/Lithuania/00000090.jpg'),Path('flags/Lithuania/00000064.jpg'),Path('flags/Czech Republic/00000089.jpg'),Path('flags/Slovenia/00000024.jpg'),Path('flags/Denmark/00000137.jpg')...]"
            ]
          },
          "metadata": {},
          "execution_count": 21
        }
      ]
    },
    {
      "cell_type": "code",
      "source": [
        "# Remove failed images\n",
        "\n",
        "failed.map(Path.unlink);"
      ],
      "metadata": {
        "id": "9HJzlXGRHVZx"
      },
      "execution_count": null,
      "outputs": []
    },
    {
      "cell_type": "markdown",
      "source": [
        "## From Data to DataLoaders"
      ],
      "metadata": {
        "id": "WYGfraNfMRlj"
      }
    },
    {
      "cell_type": "code",
      "source": [
        "# Assemble downloaded data into a format suitable for model training\n",
        "# Use DataLoaders object"
      ],
      "metadata": {
        "id": "V2Z-lqf6L9vb"
      },
      "execution_count": null,
      "outputs": []
    }
  ]
}