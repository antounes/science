{
  "nbformat": 4,
  "nbformat_minor": 0,
  "metadata": {
    "colab": {
      "name": "02_from_model_to_production.ipynb.ipynb",
      "provenance": [],
      "collapsed_sections": []
    },
    "kernelspec": {
      "name": "python3",
      "display_name": "Python 3"
    },
    "language_info": {
      "name": "python"
    }
  },
  "cells": [
    {
      "cell_type": "markdown",
      "source": [
        "# Classifying Bicycle Spare Parts with Deep Learning - A Trial"
      ],
      "metadata": {
        "id": "1ZErxVMbcGoQ"
      }
    },
    {
      "cell_type": "markdown",
      "source": [
        "This is the first post of my research work on convolutional neural networks, a family of neural networks mostly used (but not only) for solving computer vision problems. This personal research work should help me getting a sound understanding of how convolutional neural networks work under the hood. Notebooks help mixing computer science practice and deep learning theory.\n",
        "\n",
        "This notebook is implemented with fast.ai and PyTorch, and is greatly inspired from Howard's and Gugger's book *Deep Learning for Coders with fast.ai and PyTorch*."
      ],
      "metadata": {
        "id": "UrKvafX95j0u"
      }
    },
    {
      "cell_type": "markdown",
      "source": [
        "## Introduction"
      ],
      "metadata": {
        "id": "gpJrboSRm-4C"
      }
    },
    {
      "cell_type": "markdown",
      "source": [
        "The goal here is to build a classifier for distinguishing between bicycle spare parts. When looking for parts, one of the most tedious tasks is to differentiate between different versions of a given part called a cassette. The cassette is a block of sprockets located on the bicycle rear wheel and ensuring the transmission of the power applied on the pedals to the rear wheel via the chain, hence making the bike moving forward. Most today's bicycle drivetrains use either 10-, 11- or 12-sprocket cassettes. Distinguishing between these at first glance is not easy, as can be seen below. In fact what we just see is just a mass of cogs.\n",
        "\n",
        "\n",
        "A 10-speed cassette  | An 11-speed cassette | A 12-speed cassette\n",
        "-------------------  |----------------------|-------------------- \n",
        "![](images/10sp-cassette.jpeg) | ![](images/11sp-cassette.jpeg) | ![](images/12sp-cassette.jpeg)\n",
        "\n",
        "Distinguishing between types of cassettes is crucial though, because not all cassettes can be used with all chains and all shifters on a bicycle. 10-speed cassettes go with 10-speed drivetrains, etc.\n",
        "\n",
        "On could argue that it's just about counting the sprockets, or reading the numbers written on the lockring (the smallest and darkest ring of the cassette), but it's not always as easy, especially with greasy or muddy parts, or even with old ones where nothing can be read anymore.\n",
        "\n",
        "Let's assess if such objects are understandable and can be represented in such a manner that a neural network can distinguish between their types."
      ],
      "metadata": {
        "id": "bKJJUcsscbz4"
      }
    },
    {
      "cell_type": "markdown",
      "source": [
        "## Gathering Data"
      ],
      "metadata": {
        "id": "G7xGAvLFMNSo"
      }
    },
    {
      "cell_type": "markdown",
      "source": [
        "First we need to install some utilities provided by fast.ai authors, namely the fastbook library. This library comes with classes and modules that will help us setting up deep learing models."
      ],
      "metadata": {
        "id": "ZBJnOLlRnUft"
      }
    },
    {
      "cell_type": "code",
      "source": [
        "!pip install -Uqq fastbook"
      ],
      "metadata": {
        "id": "rsUCzAl3n03V"
      },
      "execution_count": 9,
      "outputs": []
    },
    {
      "cell_type": "code",
      "execution_count": 10,
      "metadata": {
        "id": "XF6LmIp3zaNZ"
      },
      "outputs": [],
      "source": [
        "import fastbook\n",
        "fastbook.setup_book()\n",
        "from fastbook import *"
      ]
    },
    {
      "cell_type": "markdown",
      "source": [
        "fast.ai authors have built a tool that allows to download images from search engines, thus ensuring we can build our image dataset. Here we'll be using the most up-to-date version of the class, scrapping images from DuckDuckGo search results.\n",
        "For the sake of time-saving and reproducibility, we'll limit the dataset to 100 images of each type of cassette we're trying to identify.\n",
        "\n",
        "Images are scrapped from the Internet and stored in a folder created for each type of cassette. Some additional steps consist of checking if all images are in the create folders and if there are no corrupted files, since they've been downloaded from the Internet. Corrupted files are eventually discarded."
      ],
      "metadata": {
        "id": "kDs3NpUgn7iT"
      }
    },
    {
      "cell_type": "code",
      "source": [
        "# Download URLs for all of our search terms\n",
        "cassettes = ('10 speed', '11 speed', '12 speed')\n",
        "path = Path('cassettes')\n",
        "\n",
        "if not path.exists():\n",
        "  path.mkdir()\n",
        "for c in cassettes:\n",
        "  dest = (path/c)\n",
        "  dest.mkdir(exist_ok=True)\n",
        "  results = search_images_ddg('{} bicycle cassette'.format(c), max_images=100)\n",
        "  download_images(urls=results, dest=dest)"
      ],
      "metadata": {
        "id": "F2_kCZT30ORH"
      },
      "execution_count": 11,
      "outputs": []
    },
    {
      "cell_type": "code",
      "source": [
        "# Check images are located in the destination folder\n",
        "fns = get_image_files(path)\n",
        "print('{} downloaded files.'.format(len(fns)))\n",
        "\n",
        "# Check if some files are corrupt\n",
        "failed = verify_images(fns)\n",
        "print('{} corrupted file(s).'.format(len(failed)))\n",
        "\n",
        "# Remove failed images\n",
        "failed.map(Path.unlink);"
      ],
      "metadata": {
        "colab": {
          "base_uri": "https://localhost:8080/"
        },
        "id": "ufhb_yDm5QCl",
        "outputId": "87b9258f-23f4-4ece-f1eb-22e8b9e3f7b3"
      },
      "execution_count": 12,
      "outputs": [
        {
          "output_type": "stream",
          "name": "stdout",
          "text": [
            "384 downloaded files.\n",
            "1 corrupted file(s).\n"
          ]
        }
      ]
    },
    {
      "cell_type": "markdown",
      "source": [
        "## From Data to DataLoaders"
      ],
      "metadata": {
        "id": "WYGfraNfMRlj"
      }
    }
  ]
}